{
 "cells": [
  {
   "cell_type": "code",
   "execution_count": 1,
   "id": "8eee11d9",
   "metadata": {},
   "outputs": [],
   "source": [
    "#import pustaka \n",
    "import pandas as pd\n",
    "import numpy as np\n",
    "from sklearn import svm"
   ]
  },
  {
   "cell_type": "code",
   "execution_count": 2,
   "id": "335661c7",
   "metadata": {},
   "outputs": [],
   "source": [
    "IrisData=('iris_data.txt')\n",
    "df2=pd.read_csv(IrisData)"
   ]
  },
  {
   "cell_type": "code",
   "execution_count": 3,
   "id": "d4ed156e",
   "metadata": {},
   "outputs": [
    {
     "data": {
      "text/html": [
       "<div>\n",
       "<style scoped>\n",
       "    .dataframe tbody tr th:only-of-type {\n",
       "        vertical-align: middle;\n",
       "    }\n",
       "\n",
       "    .dataframe tbody tr th {\n",
       "        vertical-align: top;\n",
       "    }\n",
       "\n",
       "    .dataframe thead th {\n",
       "        text-align: right;\n",
       "    }\n",
       "</style>\n",
       "<table border=\"1\" class=\"dataframe\">\n",
       "  <thead>\n",
       "    <tr style=\"text-align: right;\">\n",
       "      <th></th>\n",
       "      <th>5.1</th>\n",
       "      <th>3.5</th>\n",
       "      <th>1.4</th>\n",
       "      <th>0.2</th>\n",
       "      <th>1</th>\n",
       "    </tr>\n",
       "  </thead>\n",
       "  <tbody>\n",
       "    <tr>\n",
       "      <th>0</th>\n",
       "      <td>4.9</td>\n",
       "      <td>3.0</td>\n",
       "      <td>1.4</td>\n",
       "      <td>0.2</td>\n",
       "      <td>1</td>\n",
       "    </tr>\n",
       "    <tr>\n",
       "      <th>1</th>\n",
       "      <td>4.7</td>\n",
       "      <td>3.2</td>\n",
       "      <td>1.3</td>\n",
       "      <td>0.2</td>\n",
       "      <td>1</td>\n",
       "    </tr>\n",
       "    <tr>\n",
       "      <th>2</th>\n",
       "      <td>4.6</td>\n",
       "      <td>3.1</td>\n",
       "      <td>1.5</td>\n",
       "      <td>0.2</td>\n",
       "      <td>1</td>\n",
       "    </tr>\n",
       "    <tr>\n",
       "      <th>3</th>\n",
       "      <td>5.0</td>\n",
       "      <td>3.6</td>\n",
       "      <td>1.4</td>\n",
       "      <td>0.2</td>\n",
       "      <td>1</td>\n",
       "    </tr>\n",
       "    <tr>\n",
       "      <th>4</th>\n",
       "      <td>5.4</td>\n",
       "      <td>3.9</td>\n",
       "      <td>1.7</td>\n",
       "      <td>0.4</td>\n",
       "      <td>1</td>\n",
       "    </tr>\n",
       "    <tr>\n",
       "      <th>...</th>\n",
       "      <td>...</td>\n",
       "      <td>...</td>\n",
       "      <td>...</td>\n",
       "      <td>...</td>\n",
       "      <td>...</td>\n",
       "    </tr>\n",
       "    <tr>\n",
       "      <th>94</th>\n",
       "      <td>5.7</td>\n",
       "      <td>3.0</td>\n",
       "      <td>4.2</td>\n",
       "      <td>1.2</td>\n",
       "      <td>2</td>\n",
       "    </tr>\n",
       "    <tr>\n",
       "      <th>95</th>\n",
       "      <td>5.7</td>\n",
       "      <td>2.9</td>\n",
       "      <td>4.2</td>\n",
       "      <td>1.3</td>\n",
       "      <td>2</td>\n",
       "    </tr>\n",
       "    <tr>\n",
       "      <th>96</th>\n",
       "      <td>6.2</td>\n",
       "      <td>2.9</td>\n",
       "      <td>4.3</td>\n",
       "      <td>1.3</td>\n",
       "      <td>2</td>\n",
       "    </tr>\n",
       "    <tr>\n",
       "      <th>97</th>\n",
       "      <td>5.1</td>\n",
       "      <td>2.5</td>\n",
       "      <td>3.0</td>\n",
       "      <td>1.1</td>\n",
       "      <td>2</td>\n",
       "    </tr>\n",
       "    <tr>\n",
       "      <th>98</th>\n",
       "      <td>5.7</td>\n",
       "      <td>2.8</td>\n",
       "      <td>4.1</td>\n",
       "      <td>1.3</td>\n",
       "      <td>2</td>\n",
       "    </tr>\n",
       "  </tbody>\n",
       "</table>\n",
       "<p>99 rows × 5 columns</p>\n",
       "</div>"
      ],
      "text/plain": [
       "    5.1  3.5  1.4  0.2  1\n",
       "0   4.9  3.0  1.4  0.2  1\n",
       "1   4.7  3.2  1.3  0.2  1\n",
       "2   4.6  3.1  1.5  0.2  1\n",
       "3   5.0  3.6  1.4  0.2  1\n",
       "4   5.4  3.9  1.7  0.4  1\n",
       "..  ...  ...  ...  ... ..\n",
       "94  5.7  3.0  4.2  1.2  2\n",
       "95  5.7  2.9  4.2  1.3  2\n",
       "96  6.2  2.9  4.3  1.3  2\n",
       "97  5.1  2.5  3.0  1.1  2\n",
       "98  5.7  2.8  4.1  1.3  2\n",
       "\n",
       "[99 rows x 5 columns]"
      ]
     },
     "execution_count": 3,
     "metadata": {},
     "output_type": "execute_result"
    }
   ],
   "source": [
    "df2"
   ]
  },
  {
   "cell_type": "code",
   "execution_count": 4,
   "id": "de0efbae",
   "metadata": {},
   "outputs": [],
   "source": [
    "X=np.asarray(df2)  #merubah data df2 jadi array biar bisa dioperasikan"
   ]
  },
  {
   "cell_type": "code",
   "execution_count": 10,
   "id": "64039ffa",
   "metadata": {},
   "outputs": [],
   "source": [
    "x_train=np.concatenate((X[0:40,0:4],X[50:90,0:4]),axis=0) \n",
    "x_testing=np.concatenate((X[41:49,0:4],X[91:99,0:4]),axis=0)\n",
    "\n",
    "y_train=np.concatenate((X[0:40,4],X[50:90,4]),axis=0) \n",
    "y_testing=np.concatenate((X[41:49,4],X[91:99,4]),axis=0)\n",
    "\n",
    "#membagi data jadi training dan testing, (np.cpncatenate)untuk mengabung 2 matrix"
   ]
  },
  {
   "cell_type": "code",
   "execution_count": 11,
   "id": "ea73384c",
   "metadata": {},
   "outputs": [],
   "source": [
    "clf=svm.SVC()   #clf (clasifikasi) variabel ini bisa diubah"
   ]
  },
  {
   "cell_type": "code",
   "execution_count": 12,
   "id": "b6de499b",
   "metadata": {},
   "outputs": [
    {
     "data": {
      "text/plain": [
       "SVC()"
      ]
     },
     "execution_count": 12,
     "metadata": {},
     "output_type": "execute_result"
    }
   ],
   "source": [
    "clf.fit(x_train,y_train)"
   ]
  },
  {
   "cell_type": "code",
   "execution_count": 14,
   "id": "21dd1342",
   "metadata": {},
   "outputs": [
    {
     "name": "stdout",
     "output_type": "stream",
     "text": [
      "[1. 1. 1. 1. 1. 1. 1. 1. 2. 2. 2. 2. 2. 2. 2. 2.]\n",
      "[1. 1. 1. 1. 1. 1. 1. 1. 2. 2. 2. 2. 2. 2. 2. 2.]\n"
     ]
    }
   ],
   "source": [
    "y_prediksi=clf.predict(x_testing)\n",
    "print(y_prediksi)\n",
    "print(y_testing)"
   ]
  },
  {
   "cell_type": "code",
   "execution_count": null,
   "id": "4cb72634",
   "metadata": {},
   "outputs": [],
   "source": []
  }
 ],
 "metadata": {
  "kernelspec": {
   "display_name": "Python 3",
   "language": "python",
   "name": "python3"
  },
  "language_info": {
   "codemirror_mode": {
    "name": "ipython",
    "version": 3
   },
   "file_extension": ".py",
   "mimetype": "text/x-python",
   "name": "python",
   "nbconvert_exporter": "python",
   "pygments_lexer": "ipython3",
   "version": "3.8.8"
  }
 },
 "nbformat": 4,
 "nbformat_minor": 5
}
